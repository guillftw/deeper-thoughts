{
 "cells": [
  {
   "cell_type": "code",
   "execution_count": 1,
   "metadata": {},
   "outputs": [],
   "source": [
    "def minion_game(string):\n",
    "    vowels = 'AEIOU'\n",
    "    \n",
    "    # Stuart plays\n",
    "    stuart_point = 0\n",
    "    \n",
    "    n_trials = len(string)\n",
    "    \n",
    "    while n_trials >= 1:\n",
    "        for i in range(n_trials):\n",
    "            if string[i] not in vowels:\n",
    "                stuart_point = stuart_point + 1\n",
    "                # print(substring)\n",
    "            else:\n",
    "                pass\n",
    "        n_trials = n_trials - 1\n",
    "        \n",
    "    # Kevin plays\n",
    "    kevin_point = 0\n",
    "    \n",
    "    n_trials = len(string)\n",
    "    \n",
    "    while n_trials >= 1:\n",
    "        for i in range(n_trials):\n",
    "            if string[i] in vowels:\n",
    "                kevin_point = kevin_point + 1\n",
    "                # print(substring)\n",
    "            else:\n",
    "                pass\n",
    "        n_trials = n_trials - 1\n",
    "    \n",
    "    # Winner setting\n",
    "\n",
    "    if stuart_point > kevin_point:\n",
    "        print(\"Stuart \" + str(stuart_point))\n",
    "    elif kevin_point > stuart_point:\n",
    "        print(\"Kevin \" + str(kevin_point))\n",
    "    else:\n",
    "        print(\"Draw\")"
   ]
  },
  {
   "cell_type": "code",
   "execution_count": 2,
   "metadata": {},
   "outputs": [
    {
     "name": "stdout",
     "output_type": "stream",
     "text": [
      "aa\n",
      "aa\n",
      "aa\n",
      "aa\n",
      "aa\n",
      "aa\n",
      "Stuart 12\n"
     ]
    }
   ],
   "source": [
    "minion_game('BANANA')"
   ]
  }
 ],
 "metadata": {
  "kernelspec": {
   "display_name": "Python 3",
   "language": "python",
   "name": "python3"
  },
  "language_info": {
   "codemirror_mode": {
    "name": "ipython",
    "version": 3
   },
   "file_extension": ".py",
   "mimetype": "text/x-python",
   "name": "python",
   "nbconvert_exporter": "python",
   "pygments_lexer": "ipython3",
   "version": "3.10.6"
  }
 },
 "nbformat": 4,
 "nbformat_minor": 2
}
